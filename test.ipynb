{
 "cells": [
  {
   "cell_type": "code",
   "execution_count": 6,
   "metadata": {},
   "outputs": [],
   "source": [
    "import os\n",
    "from typing import Optional\n",
    "from pydantic import ValidationError\n",
    "\n",
    "from pydantic_settings import BaseSettings,  SettingsConfigDict\n",
    "\n",
    "\n",
    "class DBSettings(BaseSettings):\n",
    "    POSTGRES_HOST: str = \"172.17.0.1\"\n",
    "    POSTGRES_PORT: str = \"5432\"\n",
    "    POSTGRES_USER: str = \"dev\"\n",
    "    POSTGRES_PASSWORD: str = \"dev\"\n",
    "    POSTGRES_DB: str = \"dev\"\n",
    "    model_config = SettingsConfigDict(env_file='.env', env_file_encoding='utf-8', case_sensitive=True)\n",
    "\n",
    "class Settings(BaseSettings, extra = 'ignore'):\n",
    "    db: DBSettings = DBSettings()\n",
    "    model_config = SettingsConfigDict(env_file='.env', env_file_encoding='utf-8')"
   ]
  },
  {
   "cell_type": "code",
   "execution_count": 7,
   "metadata": {},
   "outputs": [
    {
     "data": {
      "text/plain": [
       "{'POSTGRES_HOST': '172.17.0.1',\n",
       " 'POSTGRES_PORT': '5432',\n",
       " 'POSTGRES_USER': 'asdasd',\n",
       " 'POSTGRES_PASSWORD': 'asdasdasd',\n",
       " 'POSTGRES_DB': 'asdas'}"
      ]
     },
     "execution_count": 7,
     "metadata": {},
     "output_type": "execute_result"
    }
   ],
   "source": [
    "DBSettings().model_dump()"
   ]
  },
  {
   "cell_type": "code",
   "execution_count": 8,
   "metadata": {},
   "outputs": [
    {
     "data": {
      "text/plain": [
       "{'db': {'POSTGRES_HOST': '172.17.0.1',\n",
       "  'POSTGRES_PORT': '5432',\n",
       "  'POSTGRES_USER': 'asdasd',\n",
       "  'POSTGRES_PASSWORD': 'asdasdasd',\n",
       "  'POSTGRES_DB': 'asdas'}}"
      ]
     },
     "execution_count": 8,
     "metadata": {},
     "output_type": "execute_result"
    }
   ],
   "source": [
    "Settings().model_dump()"
   ]
  },
  {
   "cell_type": "code",
   "execution_count": 9,
   "metadata": {},
   "outputs": [],
   "source": [
    "from fastapi import APIRouter, Depends, HTTPException\n",
    "from typing import List\n",
    "\n",
    "from app.core.models.models import (\n",
    "    Session as SessionModel,\n",
    "    Message as MessageModel,\n",
    "    SessionCreate,\n",
    ")\n",
    "\n",
    "from app.core.schemas.schemas import (\n",
    "    Session as SessionSchema,\n",
    ")\n",
    "\n",
    "from sqlalchemy import create_engine\n",
    "from sqlalchemy.orm import sessionmaker\n",
    "\n",
    "from app.core.settings import settings\n",
    "\n",
    "from sqlalchemy.orm import Session as SQLAlchemySession\n",
    "\n",
    "router = APIRouter(prefix=\"/sessions\",\n",
    "    tags=[\"Sessions\"],\n",
    "    responses={404: {\"description\": \"Not found\"}},\n",
    ")\n",
    "\n",
    "\n",
    "# SQLAlchemy configuration for PostgreSQL\n",
    "\n",
    "DATABASE_URL = settings.db.DB_URI\n",
    "engine = create_engine(DATABASE_URL)\n",
    "SessionLocal = sessionmaker(autocommit=False, autoflush=False, bind=engine)\n",
    "\n",
    "# Dependency to get the database session\n",
    "def get_db():\n",
    "    db = SessionLocal()\n",
    "    try:\n",
    "        yield db\n",
    "    finally:\n",
    "        db.close()\n",
    "\n",
    "\n",
    "@router.post(\"/\", response_model=SessionModel)\n",
    "def create_Session(session: SessionCreate, db: SQLAlchemySession = Depends(get_db)):\n",
    "    try:\n",
    "        db_session = SessionSchema(**session.model_dump())\n",
    "        db.add(db_session)\n",
    "        db.commit()\n",
    "        db.refresh(db_session)\n",
    "        return db_session\n",
    "    except Exception as e:\n",
    "        db.rollback()\n",
    "        raise HTTPException(status_code=500, detail=\"Internal Server Error\")\n",
    "    \n",
    "    \n",
    "@router.get(\"/{session_id}\", response_model=SessionModel)\n",
    "def read_Session(session_id: str, db: SQLAlchemySession = Depends(get_db)):\n",
    "    \n",
    "    try:\n",
    "        db_session = db.query(SessionSchema).filter(SessionSchema.session_id == session_id).first()\n",
    "    except Exception as e:\n",
    "        raise HTTPException(status_code=500, detail=\"Internal Server Error\")\n",
    "    finally:\n",
    "        if db_session is None:\n",
    "            raise HTTPException(status_code=404, detail=\"Session not found\")\n",
    "        return db_session\n",
    "    \n",
    "\n",
    "@router.put(\"/{session_id}\", response_model=SessionModel)\n",
    "def update_Session(session_id: str, Session: SessionCreate, db: SQLAlchemySession = Depends(get_db)):\n",
    "    \n",
    "\n",
    "    try:\n",
    "        db_session = db.query(SessionSchema).filter(SessionSchema.session_id == session_id).first()\n",
    "    except Exception as e:\n",
    "        raise HTTPException(status_code=500, detail=\"Internal Server Error\")\n",
    "    finally:\n",
    "        if db_session is None:\n",
    "            raise HTTPException(status_code=404, detail=\"Session not found\")\n",
    "        \n",
    "    for key, value in Session.model_dump().items():\n",
    "        setattr(db_session, key, value)\n",
    "    try:\n",
    "        db.commit()\n",
    "        db.refresh(db_session)\n",
    "        return db_session\n",
    "    except Exception as e:\n",
    "        db.rollback()\n",
    "        raise HTTPException(status_code=500, detail=\"Internal Server Error\")\n",
    "\n",
    "@router.delete(\"/{session_id}\", response_model=SessionModel)\n",
    "def delete_Session(session_id: str, db: SQLAlchemySession = Depends(get_db)):\n",
    "    \n",
    "    try:\n",
    "        db_session = db.query(SessionSchema).filter(SessionSchema.session_id == session_id).first()\n",
    "    except HTTPException as e:\n",
    "        raise HTTPException(status_code=500, detail=\"Internal Server Error\")\n",
    "    finally:\n",
    "        if db_session is None:\n",
    "            raise HTTPException(status_code=404, detail=\"Session not found\")\n",
    "\n",
    "    try:   \n",
    "        db.delete(db_session)\n",
    "        db.commit()\n",
    "        return db_session\n",
    "    except HTTPException as e:\n",
    "        db.rollback()\n",
    "        raise HTTPException(status_code=500, detail=\"Internal Server Error\")\n",
    "\n",
    "# List all Sessions\n",
    "@router.get(\"/\", response_model=List[SessionModel])\n",
    "def list_Sessions(skip: int = 0, limit: int = 10, db: SQLAlchemySession = Depends(get_db)):\n",
    "    try:\n",
    "        sessions = db.query(SessionSchema).offset(skip).limit(limit).all()\n",
    "    except Exception as e:\n",
    "        raise HTTPException(status_code=500, detail=\"Internal Server Error\")\n",
    "    finally:\n",
    "        if not sessions:\n",
    "            raise HTTPException(status_code=404, detail=\"Sessions not found\")\n",
    "        return sessions\n",
    "\n",
    "# Endpoint to retrieve all messages from a single session\n",
    "@router.get(\"/sessions/{session_id}/messages/\", response_model=List[MessageModel])\n",
    "def get_messages_for_session(session_id: str, db: SQLAlchemySession = Depends(get_db)):\n",
    "    try:\n",
    "        messages = db.query(MessageModel).filter(MessageModel.session_id == session_id).all()\n",
    "    except HTTPException as e:\n",
    "        raise HTTPException(status_code=500, detail=\"Internal Server Error\")\n",
    "    finally:\n",
    "        # if not messages:\n",
    "        #     raise HTTPException(status_code=404, detail=\"No messages found for this session\")\n",
    "        return messages\n",
    "    "
   ]
  },
  {
   "cell_type": "code",
   "execution_count": 11,
   "metadata": {},
   "outputs": [
    {
     "ename": "AttributeError",
     "evalue": "'generator' object has no attribute 'query'",
     "output_type": "error",
     "traceback": [
      "\u001b[0;31m---------------------------------------------------------------------------\u001b[0m",
      "\u001b[0;31mAttributeError\u001b[0m                            Traceback (most recent call last)",
      "\u001b[1;32m/home/andy/Insync/anvasquezre@unal.edu.co/Google Drive/Tenant_evaluation/Chatbot/metrics_service/test.ipynb Cell 5\u001b[0m line \u001b[0;36m2\n\u001b[1;32m      <a href='vscode-notebook-cell:/home/andy/Insync/anvasquezre%40unal.edu.co/Google%20Drive/Tenant_evaluation/Chatbot/metrics_service/test.ipynb#W5sZmlsZQ%3D%3D?line=0'>1</a>\u001b[0m db \u001b[39m=\u001b[39m get_db()\n\u001b[0;32m----> <a href='vscode-notebook-cell:/home/andy/Insync/anvasquezre%40unal.edu.co/Google%20Drive/Tenant_evaluation/Chatbot/metrics_service/test.ipynb#W5sZmlsZQ%3D%3D?line=1'>2</a>\u001b[0m messages \u001b[39m=\u001b[39m db\u001b[39m.\u001b[39;49mquery(MessageModel)\u001b[39m.\u001b[39mfilter(MessageModel\u001b[39m.\u001b[39msession_id \u001b[39m==\u001b[39m \u001b[39m123\u001b[39m)\u001b[39m.\u001b[39mall()\n",
      "\u001b[0;31mAttributeError\u001b[0m: 'generator' object has no attribute 'query'"
     ]
    }
   ],
   "source": [
    "db = get_db()\n",
    "messages = db.query(MessageModel).filter(MessageModel.session_id == 123).all()"
   ]
  }
 ],
 "metadata": {
  "kernelspec": {
   "display_name": "log_service",
   "language": "python",
   "name": "python3"
  },
  "language_info": {
   "codemirror_mode": {
    "name": "ipython",
    "version": 3
   },
   "file_extension": ".py",
   "mimetype": "text/x-python",
   "name": "python",
   "nbconvert_exporter": "python",
   "pygments_lexer": "ipython3",
   "version": "3.10.13"
  },
  "orig_nbformat": 4
 },
 "nbformat": 4,
 "nbformat_minor": 2
}
